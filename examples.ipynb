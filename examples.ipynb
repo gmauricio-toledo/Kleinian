{
 "cells": [
  {
   "cell_type": "code",
   "execution_count": 29,
   "metadata": {},
   "outputs": [],
   "source": [
    "import numpy as np\n",
    "\n",
    "class Transformation:\n",
    "\n",
    "    def __init__(self,matrix):\n",
    "        self.matrix = matrix\n",
    "        assert matrix.shape[0] == matrix.shape[1]\n",
    "        self.dim = matrix.shape[0]\n",
    "        self.__get_det()\n",
    "        self.unitary_representation = (1/self.det)*self.matrix # Representación con det=1\n",
    "        self.trace = np.sum([self.unitary_representation[i,i] for i in range(self.dim)])\n",
    "        self.__get_type()\n",
    "\n",
    "    def __get_type(self):\n",
    "        '''\n",
    "        This method determines whether the element is parabolic, elliptic or loxodromic\n",
    "        '''\n",
    "        if self.dim == 2:\n",
    "            if self.trace**2 == 4:\n",
    "                self.type = \"parabolic\"\n",
    "            elif self.trace.imag == 0:\n",
    "                if self.trace**2 < 4:\n",
    "                    self.type = \"elliptic\"\n",
    "                if self.trace**2 > 4:\n",
    "                    self.type = \"hyperbolic\"\n",
    "            else:\n",
    "                self.type = \"loxodromic\"\n",
    "        elif self.dim == 3:\n",
    "            print(\"To be added...\")\n",
    "        else:\n",
    "            print(\"Not available\")\n",
    "\n",
    "    def __get_det(self):\n",
    "        '''\n",
    "        Computes the \"standard\" form of the matrix\n",
    "        '''\n",
    "        self.det = np.linalg.det(self.matrix)\n",
    "        # print(f\"El determinante es {self.det}\")\n",
    "        return\n",
    "\n",
    "    def inverse(self):\n",
    "        pass\n",
    "\n",
    "    # ---- Operation overriding ----\n",
    "\n",
    "    def __add__(self, other):\n",
    "        return Transformation(self.unitary_representation + other.unitary_representation)\n",
    "    \n",
    "    def __sub__(self, other):\n",
    "        return Transformation(self.unitary_representation - other.unitary_representation)\n",
    "    \n",
    "    def __mul__(self, other):\n",
    "        return Transformation(self.unitary_representation * other.unitary_representation)\n",
    "    \n",
    "    # def __truediv__(self, other):\n",
    "    #     return Transformation(self.unitary_representation - other.unitary_representation)\n",
    "\n",
    "    # ---- Printing ----\n",
    "\n",
    "    def __repr__(self):\n",
    "        return f\"Transformation:\\n{self.matrix}\"\n",
    "\n",
    "    def __str__(self):\n",
    "        return f\"Transformation:\\n{self.matrix}\"\n",
    "\n",
    "class KleinianGroup:\n",
    "\n",
    "    def __init__(self, generadores):\n",
    "        self.generadores = list(generadores)\n",
    "        # assert todos tienen la misma dimension\n",
    "        self.dim = self.generadores[0].dim \n",
    "\n",
    "    def is_discrete(self):\n",
    "        if len(self.generadores)==2:\n",
    "            print(\"Using Jørgensen\\'s inequality...\")\n",
    "            [g1, g2] = self.generadores\n",
    "            conj = g1*(g2*(g1.inverse()*g2.inverse()))\n",
    "            test = np.absolute(g1.trace**2-4) + np.absolute(conj.trace - 2)\n",
    "            if test >= 1:\n",
    "                print(\"The group is discrete\")"
   ]
  },
  {
   "cell_type": "code",
   "execution_count": 10,
   "metadata": {},
   "outputs": [
    {
     "name": "stdout",
     "output_type": "stream",
     "text": [
      "El determinante es (0.9999999999999999+3.5000000000000004j)\n",
      "Traza: (0.28301886792452824-0.49056603773584906j)\n",
      "Tipo: loxodromic\n"
     ]
    }
   ],
   "source": [
    "a = np.array([[1+0.5j,1],[-3j,1]])\n",
    "\n",
    "a = Transformation(a)\n",
    "print(f\"Traza: {a.trace}\")\n",
    "print(f\"Tipo: {a.type}\")"
   ]
  },
  {
   "cell_type": "code",
   "execution_count": 16,
   "metadata": {},
   "outputs": [
    {
     "name": "stdout",
     "output_type": "stream",
     "text": [
      "El determinante es 1.0\n",
      "Traza: 2.0\n",
      "Tipo: parabolic\n"
     ]
    }
   ],
   "source": [
    "# a = np.array([[0+1j,0],[0,0-1j]])\n",
    "a = np.array([[1,1],[0,1]])\n",
    "\n",
    "a = Transformation(a)\n",
    "print(f\"Traza: {a.trace}\")\n",
    "print(f\"Tipo: {a.type}\")"
   ]
  },
  {
   "cell_type": "code",
   "execution_count": 8,
   "metadata": {},
   "outputs": [
    {
     "data": {
      "text/plain": [
       "array([[ 0.20754717-0.22641509j,  0.0754717 -0.26415094j],\n",
       "       [-0.79245283-0.22641509j,  0.0754717 -0.26415094j]])"
      ]
     },
     "execution_count": 8,
     "metadata": {},
     "output_type": "execute_result"
    }
   ],
   "source": [
    "a.unitary_representation"
   ]
  },
  {
   "cell_type": "code",
   "execution_count": 23,
   "metadata": {},
   "outputs": [
    {
     "name": "stdout",
     "output_type": "stream",
     "text": [
      "El determinante es (1+0j)\n",
      "El determinante es 1.0\n"
     ]
    }
   ],
   "source": [
    "a = np.array([[0+1j,0],[0,0-1j]])\n",
    "b = np.array([[1,1],[0,1]])\n",
    "\n",
    "a = Transformation(a)\n",
    "b = Transformation(b)\n",
    "\n",
    "G = KleinianGroup([a,b])\n",
    "# G.is_discrete()"
   ]
  },
  {
   "cell_type": "code",
   "execution_count": 32,
   "metadata": {},
   "outputs": [
    {
     "name": "stdout",
     "output_type": "stream",
     "text": [
      "El determinante es (1+0j)\n"
     ]
    },
    {
     "data": {
      "text/plain": [
       "Transformation:\n",
       "[[0.+1.j 0.+0.j]\n",
       " [0.+0.j 0.-1.j]]"
      ]
     },
     "execution_count": 32,
     "metadata": {},
     "output_type": "execute_result"
    }
   ],
   "source": [
    "\n",
    "a*b"
   ]
  },
  {
   "cell_type": "markdown",
   "metadata": {},
   "source": [
    "## Lema .... de ..."
   ]
  },
  {
   "cell_type": "code",
   "execution_count": null,
   "metadata": {},
   "outputs": [],
   "source": []
  }
 ],
 "metadata": {
  "kernelspec": {
   "display_name": "Python 3",
   "language": "python",
   "name": "python3"
  },
  "language_info": {
   "codemirror_mode": {
    "name": "ipython",
    "version": 3
   },
   "file_extension": ".py",
   "mimetype": "text/x-python",
   "name": "python",
   "nbconvert_exporter": "python",
   "pygments_lexer": "ipython3",
   "version": "3.8.10"
  },
  "orig_nbformat": 4
 },
 "nbformat": 4,
 "nbformat_minor": 2
}
